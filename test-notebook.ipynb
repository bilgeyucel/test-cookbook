{
  "cells": [
    {
      "cell_type": "code",
      "execution_count": null,
      "metadata": {
        "id": "9tShZaKxV0Ca"
      },
      "outputs": [],
      "source": [
        "%%bash\n",
        "\n",
        "pip install haystack-ai"
      ]
    },
    {
      "cell_type": "code",
      "source": [
        "from haystack.preview.document_stores import InMemoryDocumentStore\n",
        "\n",
        "ds = InMemoryDocumentStore()"
      ],
      "metadata": {
        "id": "b-wup57lV1cc"
      },
      "execution_count": null,
      "outputs": []
    }
  ],
  "metadata": {
    "language_info": {
      "name": "python"
    },
    "colab": {
      "provenance": []
    }
  },
  "nbformat": 4,
  "nbformat_minor": 0
}